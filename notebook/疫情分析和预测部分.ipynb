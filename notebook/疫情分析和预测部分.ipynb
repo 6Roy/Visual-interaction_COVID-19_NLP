{
 "cells": [
  {
   "cell_type": "markdown",
   "metadata": {
    "pycharm": {
     "name": "#%% md\n"
    }
   },
   "source": [
    "## 疫情数据分析和预测"
   ]
  },
  {
   "cell_type": "markdown",
   "metadata": {
    "pycharm": {
     "name": "#%% md\n"
    }
   },
   "source": [
    "疫情数据分析和预测是医学和流行病学应对大范围流行病时的重要判断手段，在医治隔离、预防响应、物资生产调配等抗疫措施上起到参考作用。\n",
    "\n",
    "以下将通过已知模型尝试寻找合适拟合模型并对目前全球疫情发展作出一定程度的预测。"
   ]
  },
  {
   "cell_type": "markdown",
   "metadata": {
    "pycharm": {
     "name": "#%% md\n"
    }
   },
   "source": [
    "### 一、逻辑斯蒂模型（Logistic）"
   ]
  },
  {
   "cell_type": "markdown",
   "metadata": {
    "pycharm": {
     "name": "#%% md\n"
    }
   },
   "source": [
    "（1）模型描述：当一个物种迁入到一个新生态系统中后，其数量会发生变化。假设该物种的起始数量小于环境的最大容纳量，则数量会增长。该物种在此生态系统中有天敌、食物、空间等资源也不足（非理想环境），则增长函数满足逻辑斯谛方程，图像呈S形，此方程是描述在资源有限的条件下种群增长规律的一个最佳数学模型。\n",
    "\n",
    "（2）一般疾病的传播是S型增长的过程，因为疾病传播的过程中会受到一定的阻力（医治、切断传播途径等措施）。"
   ]
  },
  {
   "cell_type": "markdown",
   "metadata": {
    "pycharm": {
     "name": "#%% md\n"
    }
   },
   "source": [
    "此处采用最小二乘法，对logistic增长函数进行拟合。以下将检验最小二乘法拟合的逻辑斯蒂模型是否能贴合实际。"
   ]
  },
  {
   "cell_type": "code",
   "execution_count": 1,
   "metadata": {
    "pycharm": {
     "name": "#%%\n"
    }
   },
   "outputs": [
    {
     "name": "stdout",
     "output_type": "stream",
     "text": [
      "K:capacity  P0:initial_value   r:increase_rate   t:time\n",
      "[4.63653383e+04 3.69197450e+00 1.00000000e+00]\n"
     ]
    },
    {
     "name": "stderr",
     "output_type": "stream",
     "text": [
      "D:\\anaconda\\envs\\pytorch\\lib\\site-packages\\scipy\\optimize\\minpack.py:829: OptimizeWarning: Covariance of the parameters could not be estimated\n",
      "  category=OptimizeWarning)\n"
     ]
    },
    {
     "data": {
      "text/plain": "<Figure size 432x288 with 1 Axes>",
      "image/png": "[encoded data removed]"
     },
     "metadata": {
      "needs_background": "light"
     },
     "output_type": "display_data"
    },
    {
     "name": "stdout",
     "output_type": "stream",
     "text": [
      "6644.614414551313\n",
      "9636.025649015395\n"
     ]
    }
   ],
   "source": [
    "import numpy as np\n",
    "import matplotlib.pyplot as plt\n",
    "import math\n",
    "import pandas as pd\n",
    "\n",
    "import numpy as np\n",
    "import matplotlib.pyplot as plt\n",
    "from scipy.optimize import curve_fit\n",
    "\n",
    "\n",
    "def logistic_increase_function(t, K, P0, r):\n",
    "    \"\"\"\n",
    "    p(t) = (KP0e^(rt)) / (K+P0(e^(rt)-1))\n",
    "    :param t: 时间\n",
    "    :param K: 环境容量\n",
    "    :param P0: t=0 时初始值\n",
    "    :param r: 增长率, 0.05/0.55/0.65\n",
    "    :return: 第 t 天的值\n",
    "    \"\"\"\n",
    "    t0 = 11\n",
    "    r = 0.45\n",
    "    exp_value = np.exp(r * (t - t0))\n",
    "    return (K * exp_value * P0) / (K + (exp_value - 1) * P0)\n",
    "\n",
    "\n",
    "'''\n",
    "1.11日41例\n",
    "1.18日45例\n",
    "1.19日62例\n",
    "1.20日291例\n",
    "1.21日440例\n",
    "1.22日571例\n",
    "1.23日835例\n",
    "1.24日1297例\n",
    "1.25日1985例\n",
    "1.26日2762例\n",
    "1.27日4535例\n",
    "'''\n",
    "\n",
    "#  日期及感染人数\n",
    "t = [11, 18, 19, 20, 21, 22, 23, 24, 25, 26, 27]\n",
    "t = np.array(t)\n",
    "P = [41, 45, 62, 291, 440, 571, 835, 1297, 1985, 2762, 4535]\n",
    "P = np.array(P)\n",
    "\n",
    "# 用最小二乘法估计拟合\n",
    "# 现有数据曲线拟合检验\n",
    "popt1, pcov1 = curve_fit(logistic_increase_function, t, P)\n",
    "\n",
    "# popt 为是拟合系数\n",
    "print(\"K:capacity  P0:initial_value   r:increase_rate   t:time\")\n",
    "print(popt1)\n",
    "\n",
    "# 未来预测\n",
    "P_predict = logistic_increase_function(t, popt1[0], popt1[1], popt1[2])\n",
    "future = [11, 18, 19, 20, 21, 22, 23, 24, 25, 26, 27,\n",
    "          28, 29, 30, 31, 41, 51, 61, 71, 81, 91, 101]\n",
    "future = np.array(future)\n",
    "future_predict = logistic_increase_function(future, popt1[0], popt1[1], popt1[2])\n",
    "\n",
    "# 近期情况预测\n",
    "tomorrow = [28, 29, 30, 32, 33, 35, 37, 40]\n",
    "tomorrow = np.array(tomorrow)\n",
    "tomorrow_predict = logistic_increase_function(tomorrow, popt1[0], popt1[1], popt1[2])\n",
    "\n",
    "# 可视化\n",
    "plot1 = plt.plot(t, P, 's', label=\"confimed infected people number\")\n",
    "plot2 = plt.plot(t, P_predict, 'r', label='predict infected people number')\n",
    "plot3 = plt.plot(tomorrow, tomorrow_predict, 's', label='tomorrow predict infected people number')\n",
    "\n",
    "plt.xlabel('time')\n",
    "plt.ylabel('confimed infected people number')\n",
    "# 图例位置自适应\n",
    "plt.legend(loc=0)\n",
    "plt.show()\n",
    "\n",
    "print(logistic_increase_function(np.array(28), popt1[0], popt1[1], popt1[2]))\n",
    "print(logistic_increase_function(np.array(29), popt1[0], popt1[1], popt1[2]))"
   ]
  },
  {
   "cell_type": "markdown",
   "metadata": {
    "pycharm": {
     "name": "#%% md\n"
    }
   },
   "source": [
    "本次拟合采用了1月11日到1月27日的累计确诊病例数据作为原始数据，采用最小二乘法拟合逻辑斯蒂曲线，最后经过对逻辑斯蒂模型中R值（增长速率，到达K值的速度）的拟合调整，发现在0.45附近得到的曲线比较贴合我国1月至2月疫情实际情况。2月9日的预测值在4万左右，与实际情况十分贴近，也证明了模型的一定可靠性。"
   ]
  },
  {
   "cell_type": "markdown",
   "metadata": {
    "pycharm": {
     "name": "#%% md\n"
    }
   },
   "source": [
    "将本模型推广，进行全球范围内典型新冠肺炎爆发国家的疫情拟合与未来疫情预测，同时将通过R值的大小反应出该国疫情应对的有效程度。"
   ]
  },
  {
   "cell_type": "code",
   "execution_count": 3,
   "metadata": {
    "pycharm": {
     "name": "#%%\n"
    }
   },
   "outputs": [
    {
     "name": "stdout",
     "output_type": "stream",
     "text": [
      "K:capacity  P0:initial_value   r:increase_rate   t:time\n",
      "[1.78741065e+04 1.72691205e+01 1.00000000e+00]\n"
     ]
    },
    {
     "name": "stderr",
     "output_type": "stream",
     "text": [
      "D:\\anaconda\\envs\\pytorch\\lib\\site-packages\\scipy\\optimize\\minpack.py:829: OptimizeWarning: Covariance of the parameters could not be estimated\n",
      "  category=OptimizeWarning)\n"
     ]
    },
    {
     "data": {
      "text/plain": "<Figure size 432x288 with 1 Axes>",
      "image/png": "[encoded data removed]"
     },
     "metadata": {
      "needs_background": "light"
     },
     "output_type": "display_data"
    },
    {
     "name": "stdout",
     "output_type": "stream",
     "text": [
      "17761.263593348936\n",
      "17761.263593348936\n"
     ]
    }
   ],
   "source": [
    "import numpy as np\n",
    "import matplotlib.pyplot as plt\n",
    "import math\n",
    "import pandas as pd\n",
    "\n",
    "import numpy as np\n",
    "import matplotlib.pyplot as plt\n",
    "from scipy.optimize import curve_fit\n",
    "\n",
    "\n",
    "def logistic_increase_function(t, K, P0, r):\n",
    "    t0 = data0\n",
    "    r = 0.08\n",
    "    exp_value = np.exp(r * (t - t0))\n",
    "    return (K * exp_value * P0) / (K + (exp_value - 1) * P0)\n",
    "\n",
    "\n",
    "#  日期及感染人数\n",
    "f = \"../dataSets\\\\countrydata.csv\"\n",
    "data = pd.read_csv(f)\n",
    "\n",
    "# 修改国家可以得到不同的曲线拟合情况\n",
    "data = data[data['countryName'] == '日本']\n",
    "date_list = list(data['dateId'])\n",
    "data0 = date_list[0] % 100\n",
    "date_list = list(map(lambda x: str(x), date_list))\n",
    "\n",
    "# 确诊数量列表\n",
    "confirm_list = list(data['confirmedCount'])\n",
    "#\n",
    "time_array = np.array(range(data0, len(date_list) + data0))\n",
    "long_time_array = np.array(range(data0, len(date_list) + data0 + 100))\n",
    "confirm_array = np.array(confirm_list)\n",
    "\n",
    "# 用最小二乘法估计拟合\n",
    "popt, pcov = curve_fit(logistic_increase_function, time_array, confirm_array)\n",
    "print(\"K:capacity  P0:initial_value   r:increase_rate   t:time\")\n",
    "print(popt)\n",
    "\n",
    "# 预测\n",
    "P_predict = logistic_increase_function(long_time_array, popt[0], popt[1], popt[2])\n",
    "\n",
    "\n",
    "# 可视化\n",
    "plot1 = plt.plot(time_array, confirm_array, 's', label=\"confimed infected people number\")\n",
    "plot2 = plt.plot(long_time_array, P_predict, 'r', label='predict infected people number')\n",
    "plt.xlabel('time')\n",
    "plt.ylabel('confimed infected people number')\n",
    "\n",
    "plt.legend(loc=0)\n",
    "plt.show()\n",
    "\n",
    "print(logistic_increase_function(len(date_list)+data0+1, popt[0], popt[1], popt[2]))\n",
    "print(logistic_increase_function(len(date_list)+data0+1, popt[0], popt[1], popt[2]))\n"
   ]
  },
  {
   "cell_type": "code",
   "execution_count": 6,
   "metadata": {
    "pycharm": {
     "name": "#%%\n"
    }
   },
   "outputs": [
    {
     "name": "stdout",
     "output_type": "stream",
     "text": [
      "K:capacity  P0:initial_value   r:increase_rate   t:time\n",
      "[2.81881286e+06 7.54187927e+03 1.00000000e+00]\n",
      "17582.313915881037\n",
      "18477.86915113596\n"
     ]
    },
    {
     "name": "stderr",
     "output_type": "stream",
     "text": [
      "c:\\users\\王滨2000\\appdata\\local\\programs\\python\\python38\\lib\\site-packages\\scipy\\optimize\\minpack.py:807: OptimizeWarning: Covariance of the parameters could not be estimated\n",
      "  warnings.warn('Covariance of the parameters could not be estimated',\n"
     ]
    },
    {
     "data": {
      "image/png": "[encoded data removed]",
      "text/plain": [
       "<Figure size 432x288 with 1 Axes>"
      ]
     },
     "metadata": {
      "needs_background": "light"
     },
     "output_type": "display_data"
    }
   ],
   "source": [
    "import numpy as np\n",
    "import matplotlib.pyplot as plt\n",
    "import math\n",
    "import pandas as pd\n",
    "\n",
    "import numpy as np\n",
    "import matplotlib.pyplot as plt\n",
    "from scipy.optimize import curve_fit\n",
    "\n",
    "\n",
    "def logistic_increase_function(t, K, P0, r):\n",
    "    t0 = data0\n",
    "    # r: 中国 0.25  美国 0.04  英国 0.08  意大利 0.08  德国0.09  韩国 0.06\n",
    "    r = 0.04\n",
    "    # t:time   t0:initial time    P0:initial_value    K:capacity  r:increase_rate\n",
    "    exp_value = np.exp(r * (t - t0))\n",
    "    return (K * exp_value * P0) / (K + (exp_value - 1) * P0)\n",
    "\n",
    "\n",
    "#  日期及感染人数\n",
    "f = \"../dataSets\\\\countrydata.csv\"\n",
    "data = pd.read_csv(f)\n",
    "\n",
    "# 修改国家可以得到不同的曲线拟合情况\n",
    "data = data[data['countryName'] == '美国']\n",
    "date_list = list(data['dateId'])\n",
    "data0 = date_list[0]%100\n",
    "date_list = list(map(lambda x: str(x), date_list))\n",
    "# 确诊数目列表\n",
    "confirm_list = list(data['confirmedCount'])\n",
    "\n",
    "time_array = np.array(range(data0, len(date_list) + data0))\n",
    "long_time_array = np.array(range(data0, len(date_list) + data0 + 100))\n",
    "confirm_array = np.array(confirm_list)\n",
    "\n",
    "# 用最小二乘法估计拟合\n",
    "popt, pcov = curve_fit(logistic_increase_function, time_array, confirm_array)\n",
    "print(\"K:capacity  P0:initial_value   r:increase_rate   t:time\")\n",
    "print(popt)\n",
    "\n",
    "# 预测\n",
    "P_predict = logistic_increase_function(long_time_array, popt[0], popt[1], popt[2])\n",
    "\n",
    "# 可视化\n",
    "plot1 = plt.plot(time_array, confirm_array, 's', label=\"confimed infected people number\")\n",
    "plot2 = plt.plot(long_time_array, P_predict, 'r', label='predict infected people number')\n",
    "plt.xlabel('time')\n",
    "plt.ylabel('confimed infected people number')\n",
    "\n",
    "plt.legend(loc=0)\n",
    "plt.show()\n",
    "\n",
    "print(logistic_increase_function(data0+len(date_list)+1, popt[0], popt[1], popt[2]))\n",
    "print(logistic_increase_function(data0+len(date_list)+2, popt[0], popt[1], popt[2]))\n",
    "\n"
   ]
  },
  {
   "cell_type": "code",
   "execution_count": 4,
   "metadata": {
    "pycharm": {
     "name": "#%%\n"
    }
   },
   "outputs": [
    {
     "name": "stdout",
     "output_type": "stream",
     "text": [
      "K:capacity  P0:initial_value   r:increase_rate   t:time\n",
      "[1.82585798e+05 3.32510820e+02 1.00000000e+00]\n"
     ]
    },
    {
     "name": "stderr",
     "output_type": "stream",
     "text": [
      "D:\\anaconda\\envs\\pytorch\\lib\\site-packages\\scipy\\optimize\\minpack.py:829: OptimizeWarning: Covariance of the parameters could not be estimated\n",
      "  category=OptimizeWarning)\n"
     ]
    },
    {
     "data": {
      "text/plain": "<Figure size 432x288 with 1 Axes>",
      "image/png": "[encoded data removed]"
     },
     "metadata": {
      "needs_background": "light"
     },
     "output_type": "display_data"
    },
    {
     "name": "stdout",
     "output_type": "stream",
     "text": [
      "182328.5481925927\n",
      "182350.660825167\n"
     ]
    }
   ],
   "source": [
    "import numpy as np\n",
    "import matplotlib.pyplot as plt\n",
    "import math\n",
    "import pandas as pd\n",
    "\n",
    "import numpy as np\n",
    "import matplotlib.pyplot as plt\n",
    "from scipy.optimize import curve_fit\n",
    "\n",
    "\n",
    "def logistic_increase_function(t, K, P0, r):\n",
    "    t0 = data0\n",
    "    # r: 中国 0.25  美国 0.04  英国 0.08  意大利 0.08  德国0.09  韩国 0.06\n",
    "    r = 0.09\n",
    "    # t:time   t0:initial time    P0:initial_value    K:capacity  r:increase_rate\n",
    "    exp_value = np.exp(r * (t - t0))\n",
    "    return (K * exp_value * P0) / (K + (exp_value - 1) * P0)\n",
    "\n",
    "\n",
    "#  日期及感染人数\n",
    "f = \"../dataSets\\\\countrydata.csv\"\n",
    "data = pd.read_csv(f)\n",
    "\n",
    "# 修改国家可以得到不同的曲线拟合情况\n",
    "data = data[data['countryName'] == '德国']\n",
    "date_list = list(data['dateId'])\n",
    "data0 = date_list[0]%100\n",
    "date_list = list(map(lambda x: str(x), date_list))\n",
    "# 确诊数目列表\n",
    "confirm_list = list(data['confirmedCount'])\n",
    "\n",
    "time_array = np.array(range(data0, len(date_list) + data0))\n",
    "long_time_array = np.array(range(data0, len(date_list) + data0 + 100))\n",
    "confirm_array = np.array(confirm_list)\n",
    "\n",
    "# 用最小二乘法估计拟合\n",
    "popt, pcov = curve_fit(logistic_increase_function, time_array, confirm_array)\n",
    "print(\"K:capacity  P0:initial_value   r:increase_rate   t:time\")\n",
    "print(popt)\n",
    "\n",
    "# 预测\n",
    "P_predict = logistic_increase_function(long_time_array, popt[0], popt[1], popt[2])\n",
    "\n",
    "# 可视化\n",
    "plot1 = plt.plot(time_array, confirm_array, 's', label=\"confimed infected people number\")\n",
    "plot2 = plt.plot(long_time_array, P_predict, 'r', label='predict infected people number')\n",
    "plt.xlabel('time')\n",
    "plt.ylabel('confimed infected people number')\n",
    "\n",
    "plt.legend(loc=0)\n",
    "plt.show()\n",
    "\n",
    "print(logistic_increase_function(data0+len(date_list)+1, popt[0], popt[1], popt[2]))\n",
    "print(logistic_increase_function(data0+len(date_list)+2, popt[0], popt[1], popt[2]))\n"
   ]
  },
  {
   "cell_type": "code",
   "execution_count": 5,
   "metadata": {
    "pycharm": {
     "name": "#%%\n"
    }
   },
   "outputs": [
    {
     "name": "stdout",
     "output_type": "stream",
     "text": [
      "K:capacity  P0:initial_value   r:increase_rate   t:time\n",
      "[1.17695828e+04 5.54510728e+02 1.00000000e+00]\n"
     ]
    },
    {
     "name": "stderr",
     "output_type": "stream",
     "text": [
      "D:\\anaconda\\envs\\pytorch\\lib\\site-packages\\scipy\\optimize\\minpack.py:829: OptimizeWarning: Covariance of the parameters could not be estimated\n",
      "  category=OptimizeWarning)\n"
     ]
    },
    {
     "data": {
      "text/plain": "<Figure size 432x288 with 1 Axes>",
      "image/png": "[encoded data removed]"
     },
     "metadata": {
      "needs_background": "light"
     },
     "output_type": "display_data"
    },
    {
     "name": "stdout",
     "output_type": "stream",
     "text": [
      "11740.279203161444\n",
      "11741.981706973655\n"
     ]
    }
   ],
   "source": [
    "import numpy as np\n",
    "import matplotlib.pyplot as plt\n",
    "import math\n",
    "import pandas as pd\n",
    "\n",
    "import numpy as np\n",
    "import matplotlib.pyplot as plt\n",
    "from scipy.optimize import curve_fit\n",
    "\n",
    "\n",
    "def logistic_increase_function(t, K, P0, r):\n",
    "    t0 = data0\n",
    "    # r: 中国 0.25  美国 0.04  英国 0.08  意大利 0.08  德国0.09  韩国 0.06\n",
    "    r = 0.06\n",
    "    # t:time   t0:initial time    P0:initial_value    K:capacity  r:increase_rate\n",
    "    exp_value = np.exp(r * (t - t0))\n",
    "    return (K * exp_value * P0) / (K + (exp_value - 1) * P0)\n",
    "\n",
    "\n",
    "#  日期及感染人数\n",
    "f = \"../dataSets\\\\countrydata.csv\"\n",
    "data = pd.read_csv(f)\n",
    "\n",
    "# 修改国家可以得到不同的曲线拟合情况\n",
    "data = data[data['countryName'] == '韩国']\n",
    "date_list = list(data['dateId'])\n",
    "data0 = date_list[0]%100\n",
    "date_list = list(map(lambda x: str(x), date_list))\n",
    "# 确诊数目列表\n",
    "confirm_list = list(data['confirmedCount'])\n",
    "\n",
    "time_array = np.array(range(data0, len(date_list) + data0))\n",
    "long_time_array = np.array(range(data0, len(date_list) + data0 + 100))\n",
    "confirm_array = np.array(confirm_list)\n",
    "\n",
    "# 用最小二乘法估计拟合\n",
    "popt, pcov = curve_fit(logistic_increase_function, time_array, confirm_array)\n",
    "print(\"K:capacity  P0:initial_value   r:increase_rate   t:time\")\n",
    "print(popt)\n",
    "\n",
    "# 预测\n",
    "P_predict = logistic_increase_function(long_time_array, popt[0], popt[1], popt[2])\n",
    "\n",
    "# 可视化\n",
    "plot1 = plt.plot(time_array, confirm_array, 's', label=\"confimed infected people number\")\n",
    "plot2 = plt.plot(long_time_array, P_predict, 'r', label='predict infected people number')\n",
    "plt.xlabel('time')\n",
    "plt.ylabel('confimed infected people number')\n",
    "\n",
    "plt.legend(loc=0)\n",
    "plt.show()\n",
    "\n",
    "print(logistic_increase_function(data0+len(date_list)+1, popt[0], popt[1], popt[2]))\n",
    "print(logistic_increase_function(data0+len(date_list)+2, popt[0], popt[1], popt[2]))"
   ]
  },
  {
   "cell_type": "markdown",
   "metadata": {
    "pycharm": {
     "name": "#%% md\n"
    }
   },
   "source": [
    "关于R值的补充说明：逻辑斯蒂模型中R值代表的增长速率不是传统意义上理解的种群增长速度，而是接近种群数量达到环境承载力K值的速度。强烈的人为干预可以**大幅度降低K值**，使得种群数量快速达到最大值附近，疫情扩散得以控制。所以本模型在预测各国最终累计感染人数的功能之外，拟合过程中R值的大小可以反映某个国家面对新冠肺炎采取措施的**有效性和效率**。一般来说，R值越大，该国防疫措施越有效。"
   ]
  },
  {
   "cell_type": "markdown",
   "metadata": {
    "pycharm": {
     "name": "#%% md\n"
    }
   },
   "source": [
    "国家 | 中国 |美国 |英国 |德国 |意大利 |韩国| 日本\n",
    "- | :-: | :-: | :-: | :-: | :-: | :-: | -:\n",
    "R |0.25 | 0.05 |0.08 |0.09 |0.08 |0.06 |0.08"
   ]
  },
  {
   "cell_type": "markdown",
   "metadata": {
    "pycharm": {
     "name": "#%% md\n"
    }
   },
   "source": [
    "### 二、SEITR模型"
   ]
  },
  {
   "cell_type": "markdown",
   "metadata": {
    "pycharm": {
     "name": "#%% md\n"
    }
   },
   "source": [
    "（1）模型简介：SEITR模型是基于动力学SEIR模型不断调试模拟的结果，能够比较合理贴合传染病传播的一般规律。\n",
    "\n",
    "1）模型中的4类人群：N为总人数\n",
    "SUSCEPTIBLES: 用S表示，为易感者, 潜在的可感染人群\n",
    "EXPOSED：用E表示，为潜伏者, 已经被感染但是没有表现出来的人群\n",
    "INFECTIVES: 用I表示，为感染者, 表现出感染症状的人\n",
    "RESISTANCES: 用R表示，为抵抗者, 感染者痊愈后获得抗性的人\n",
    "\n",
    "2）模型中的3种参数：\n",
    "αß：易感人群（S) 被感染人员（I) 传染的传染率，相当于单人次易感者接触感染者而被感染的几率（ß）与易感者单位时间内接触的感染者人数（α）的乘积\n",
    "γ：感染人群（I) 以固定平均速率恢复（R) 或死亡的恢复率\n",
    "Ω：潜伏人群（E) 变为感染者的平均速率，通常数值取潜伏期的倒数\n",
    "\n",
    "3）增加修正的参数：\n",
    "“T”：已被感染且正处于接受治疗时期的人群，主要特征表现为已被感染，已过潜伏期，但不会进行传染，且正在被治疗。\n",
    "同时也将I人群严格定义为被感染，已过潜伏期但未被医院收治无法接受治疗的人群。\n",
    "δ，表示I变为T的速率，主要受医院接诊速率及收治能力影响，也受发病后及时就医的时间影响。"
   ]
  },
  {
   "cell_type": "markdown",
   "metadata": {
    "pycharm": {
     "name": "#%% md\n"
    }
   },
   "source": [
    "以下使用SEITR模型对美国疫情基本得到控制的时间进行预测。"
   ]
  },
  {
   "cell_type": "code",
   "execution_count": 81,
   "metadata": {
    "pycharm": {
     "name": "#%%\n"
    }
   },
   "outputs": [
    {
     "data": {
      "image/png": "[encoded data removed]",
      "text/plain": [
       "<Figure size 432x288 with 1 Axes>"
      ]
     },
     "metadata": {
      "needs_background": "light"
     },
     "output_type": "display_data"
    }
   ],
   "source": [
    "import scipy.integrate as spi\n",
    "import numpy as np\n",
    "import matplotlib.pyplot as plt\n",
    "\n",
    "# N为人群总数（美国人口大致为3.3亿）\n",
    "N =330000000\n",
    "# β为传染率系数（美国实际应该略高）\n",
    "beta = 0.19\n",
    "# gamma为恢复率系数\n",
    "gamma = 0.15\n",
    "#δ为受到治疗系数（收治率）\n",
    "δ = 0.3\n",
    "# Te为疾病潜伏期\n",
    "Te = 14\n",
    "# I_0为感染未住院的初始人数\n",
    "I_0 = 1\n",
    "# E_0为潜伏者的初始人数\n",
    "E_0 = 0\n",
    "# R_0为治愈者的初始人数\n",
    "R_0 = 0\n",
    "#T_0为治疗中的初始人数\n",
    "T_0 = 0\n",
    "# S_0为易感者的初始人数\n",
    "S_0 = N - I_0 - E_0 - R_0 - T_0\n",
    "# T为传播时间\n",
    "T = 250\n",
    "\n",
    "# INI为初始状态下的数组\n",
    "INI = (S_0,E_0,I_0,R_0,T_0)\n",
    "\n",
    "def funcSEIR(inivalue,_):\n",
    " Y = np.zeros(5)\n",
    " X = inivalue\n",
    " # 易感个体变化\n",
    " Y[0] = - (beta * X[0] *( X[2]+X[1])) / N\n",
    " # 潜伏个体变化\n",
    " Y[1] = (beta * X[0] *( X[2]+X[1])) / N - X[1] / Te\n",
    " # 感染未住院\n",
    " Y[2] = X[1] / Te - δ * X[2]\n",
    " # 治愈个体变化\n",
    " Y[3] = gamma * X[4]\n",
    " #治疗中个体变化\n",
    " Y[4] = δ* X[2] - gamma* X[4]\n",
    " return Y\n",
    "\n",
    "T_range = np.arange(0,T + 1)\n",
    "\n",
    "RES = spi.odeint(funcSEIR,INI,T_range)\n",
    "\n",
    "plt.plot(RES[:,0],color = 'darkblue',label = 'Susceptible',marker = '.')\n",
    "plt.plot(RES[:,1],color = 'orange',label = 'Exposed',marker = '.')\n",
    "plt.plot(RES[:,2],color = 'red',label = 'Infection',marker = '.')\n",
    "plt.plot(RES[:,3],color = 'green',label = 'Recovery',marker = '.')\n",
    "plt.plot(RES[:,4],color = 'purple',label = 'Under Treatment',marker = '.')\n",
    "\n",
    "plt.title('“SEITR” Model')\n",
    "plt.legend()\n",
    "plt.xlabel('Day')\n",
    "plt.ylabel('Number')\n",
    "plt.show()\n"
   ]
  },
  {
   "cell_type": "markdown",
   "metadata": {
    "pycharm": {
     "name": "#%% md\n"
    }
   },
   "source": [
    "模型拟合评价：\n",
    "\n",
    "（1）参数的设置：\n",
    "\n",
    "1）传染率系数与人与人之间的社交距离和社交频率息息相关，美国在疫情早期未及时向民众宣传保持社交距离和戴口罩、减少出行的建议，导致传染率系数会比参数设置的更高；\n",
    "\n",
    "2）治疗系数与当地医疗水平、卫生设施数量、医疗物资等息息相关，疫情中期各州的医疗设备全面告急，医护人员感染率上升，同时中产阶级及以下家庭因为无法支付高昂医疗费选择在家隔离，错过最佳治疗期，使得治疗系数要低于已经有雷神山火神山的武汉对应时期的治疗系数；\n",
    "\n",
    "（2）结果分析：\n",
    "主要的预测在于感染人数逐渐趋于0的时间节点，本次预测得到的结果是今年秋季美国的疫情能够基本得到控制。\n",
    "\n",
    "（3）拟合分析；\n",
    "本模型在尝试同时拟合现有病例（正在接受治疗人群）和治愈人数曲线时，发现无法做到相对同时拟合的比较贴合实际的结果。分析可知，（1）中的参数对拟合结果的影响非常大，而模型参数的选择需要结合美国实际疫情情况才能推算，目前使用的计算手段过于粗糙；同时该模型的假设条件是，美国的0号病人出现在今年1月11日，但是目前的报告陆续显示早在2019年美国就有社区性传播，因此本模型的可靠性大大下降。由于具体的时间目前国际上无法追溯，所以进一步的研究很难继续进行。"
   ]
  }
 ],
 "metadata": {
  "kernelspec": {
   "display_name": "Python 3",
   "language": "python",
   "name": "python3"
  },
  "language_info": {
   "codemirror_mode": {
    "name": "ipython",
    "version": 3
   },
   "file_extension": ".py",
   "mimetype": "text/x-python",
   "name": "python",
   "nbconvert_exporter": "python",
   "pygments_lexer": "ipython3",
   "version": "3.7.0"
  }
 },
 "nbformat": 4,
 "nbformat_minor": 2
}